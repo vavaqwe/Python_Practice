{
  "nbformat": 4,
  "nbformat_minor": 0,
  "metadata": {
    "colab": {
      "provenance": [],
      "include_colab_link": true
    },
    "kernelspec": {
      "name": "python3",
      "display_name": "Python 3"
    },
    "language_info": {
      "name": "python"
    }
  },
  "cells": [
    {
      "cell_type": "markdown",
      "metadata": {
        "id": "view-in-github",
        "colab_type": "text"
      },
      "source": [
        "<a href=\"https://colab.research.google.com/github/vavaqwe/Python_Practice/blob/main/python_practice_4.ipynb\" target=\"_parent\"><img src=\"https://colab.research.google.com/assets/colab-badge.svg\" alt=\"Open In Colab\"/></a>"
      ]
    },
    {
      "cell_type": "markdown",
      "source": [
        "# I. Functions. Arguments."
      ],
      "metadata": {
        "id": "-xM96SkgLNxS"
      }
    },
    {
      "cell_type": "markdown",
      "source": [
        "0. (5б) Назвіть 4 частини, з яких складається визначення функції."
      ],
      "metadata": {
        "id": "RFkkDC1jikAI"
      }
    },
    {
      "cell_type": "code",
      "source": [
        "def nazva(argumenti):\n",
        "    tilo\n",
        "    return rezultat"
      ],
      "metadata": {
        "id": "tV4xxWnFisqZ"
      },
      "execution_count": 72,
      "outputs": []
    },
    {
      "cell_type": "markdown",
      "source": [
        "1. (4б) Визначте функцію, що приймає 2 аргументи та повертає результат ділення 1го аргумента на інший."
      ],
      "metadata": {
        "id": "mg6qjOB2LbVs"
      }
    },
    {
      "cell_type": "code",
      "execution_count": 73,
      "metadata": {
        "id": "lUbA_FWjKxQD",
        "colab": {
          "base_uri": "https://localhost:8080/"
        },
        "outputId": "0e3f423b-73d9-4989-902a-469a2afcaee7"
      },
      "outputs": [
        {
          "output_type": "execute_result",
          "data": {
            "text/plain": [
              "2.0"
            ]
          },
          "metadata": {},
          "execution_count": 73
        }
      ],
      "source": [
        "def division_fun(first_arg, second_arg):\n",
        "    return first_arg / second_arg\n",
        "division_fun(4,2)"
      ]
    },
    {
      "cell_type": "markdown",
      "source": [
        "2. (2б) Викличте вище визначену функцію, де другий аргумент дорівнює 0."
      ],
      "metadata": {
        "id": "wMAYj2KXLpiJ"
      }
    },
    {
      "cell_type": "code",
      "source": [
        "division_fun(5,0)\n",
        "#помилка бо ділення на 0 не можливе щоб її виправити потрібно додати умову в тіло функції"
      ],
      "metadata": {
        "id": "103jJj32Lo4Y"
      },
      "execution_count": null,
      "outputs": []
    },
    {
      "cell_type": "markdown",
      "source": [
        "3. (6б) Перевизначте функцію так, щоби у випадку ділення на 0 функція повертала None, а в решті випадків - результат розрахунків."
      ],
      "metadata": {
        "id": "eT-pwEwPMD3T"
      }
    },
    {
      "cell_type": "code",
      "source": [
        "def division_fun(first_arg, second_arg):\n",
        "    if second_arg == 0:\n",
        "      return None\n",
        "    return first_arg / second_arg\n",
        "print(division_fun(5,0))"
      ],
      "metadata": {
        "id": "1h6Jz7CKMTk_",
        "colab": {
          "base_uri": "https://localhost:8080/"
        },
        "outputId": "b6797eb8-913e-496c-f16a-9f024dfe4380"
      },
      "execution_count": 77,
      "outputs": [
        {
          "output_type": "stream",
          "name": "stdout",
          "text": [
            "None\n"
          ]
        }
      ]
    },
    {
      "cell_type": "markdown",
      "source": [
        "4. (5б) Напишіть документацію (docstring) у форматі Google до функції, що має обчислювати суму двох чисел."
      ],
      "metadata": {
        "id": "iuTiofyDMVMG"
      }
    },
    {
      "cell_type": "code",
      "source": [
        "\"\"\"\n",
        "Обчисення суми двох чисел.\n",
        "\n",
        "Аргументи:\n",
        "    a : Перше число для додавання.\n",
        "    b : Друге число для додавання.\n",
        "\n",
        "Вивід:\n",
        "      Сума двох чисел.\n",
        "\"\"\""
      ],
      "metadata": {
        "id": "a9E6iU_iNyYQ",
        "colab": {
          "base_uri": "https://localhost:8080/",
          "height": 36
        },
        "outputId": "01ab9851-a501-4ef5-a294-5e943465860f"
      },
      "execution_count": 78,
      "outputs": [
        {
          "output_type": "execute_result",
          "data": {
            "text/plain": [
              "'\\nОбчисення суми двох чисел.\\n\\nАргументи:\\n    a : Перше число для додавання.\\n    b : Друге число для додавання.\\n\\nВивід:\\n      Сума двох чисел.\\n'"
            ],
            "application/vnd.google.colaboratory.intrinsic+json": {
              "type": "string"
            }
          },
          "metadata": {},
          "execution_count": 78
        }
      ]
    },
    {
      "cell_type": "markdown",
      "source": [
        "5. (4б) Реалізуйте цю функцію (із додаванням docstring у визначення функції)."
      ],
      "metadata": {
        "id": "ZvrsUQZFN5VT"
      }
    },
    {
      "cell_type": "code",
      "source": [
        "def add_numbers(a, b):\n",
        "    return a + b\n",
        "\n",
        "add_numbers(4, 6)"
      ],
      "metadata": {
        "id": "K5h3KTVuOBP3",
        "colab": {
          "base_uri": "https://localhost:8080/"
        },
        "outputId": "87c38d3c-05ef-48c8-db62-96163fb767b6"
      },
      "execution_count": 79,
      "outputs": [
        {
          "output_type": "execute_result",
          "data": {
            "text/plain": [
              "10"
            ]
          },
          "metadata": {},
          "execution_count": 79
        }
      ]
    },
    {
      "cell_type": "markdown",
      "source": [
        "6. (6б) Визначте функцію, що віднімає одне число від іншого (підказка: це буде 2 аргументи функції). При чому, якщо не визначити, скільки саме має бути віднято від числа, за замовчуванням має відніматися 1. Викличте функцію, передаючи тільки один аргумент."
      ],
      "metadata": {
        "id": "IILi2wfYOwYb"
      }
    },
    {
      "cell_type": "code",
      "source": [
        "def fun_division(*args):\n",
        "    if len(args) == 1:\n",
        "      return args[0] - 1\n",
        "    return args[0] - args[1]\n",
        "\n",
        "\n",
        "print(fun_division(2,2))"
      ],
      "metadata": {
        "id": "hybHnk8ROvxQ",
        "colab": {
          "base_uri": "https://localhost:8080/"
        },
        "outputId": "d4dddf47-d3b5-4645-936f-5a5cd4662474"
      },
      "execution_count": 80,
      "outputs": [
        {
          "output_type": "stream",
          "name": "stdout",
          "text": [
            "0\n"
          ]
        }
      ]
    },
    {
      "cell_type": "markdown",
      "source": [
        "7. (10б) Визначте функцію, яка приймає iterable (ітерабельний обʼєкт, напр. список), що складається з 7ми рядкових значень - назв погодних умов (напр. \"sunny\") за кожен день у тижні. Повертає функція словник, де ключами є рядки з погодними умовами, а значеннями - кількість разів, скільки дана погода була протягом тижня (напр. {'sunny': 1, ...})."
      ],
      "metadata": {
        "id": "UK6o8zcuR7cH"
      }
    },
    {
      "cell_type": "code",
      "source": [
        "def weather_week(weekly_weather):\n",
        "    result = {}\n",
        "    for weather in weekly_weather:\n",
        "      if weather in result:\n",
        "          result[weather] += 1\n",
        "      else:\n",
        "          result[weather] = 1\n",
        "\n",
        "    return result\n",
        "\n",
        "weekly_conditions = [\"sunny\", \"cloudy\", \"rainy\", \"sunny\", \"sunny\", \"cloudy\", \"sunny\"]\n",
        "print(weather_week(weekly_conditions))"
      ],
      "metadata": {
        "id": "3gkR5gl0SyYO",
        "colab": {
          "base_uri": "https://localhost:8080/"
        },
        "outputId": "d8a43988-9f7f-4709-c39d-8e205cb64a76"
      },
      "execution_count": 81,
      "outputs": [
        {
          "output_type": "stream",
          "name": "stdout",
          "text": [
            "{'sunny': 4, 'cloudy': 2, 'rainy': 1}\n"
          ]
        }
      ]
    },
    {
      "cell_type": "markdown",
      "source": [
        "8. (3б) Викличте цю функцію тричі з різними аргументами та виведіть результати на екран."
      ],
      "metadata": {
        "id": "x4zhem_2Syf7"
      }
    },
    {
      "cell_type": "code",
      "source": [
        "weekly_conditions = [\"sunny\", \"cloudy\", \"rainy\", \"cloudy\", \"rainy\", \"cloudy\", \"cloudy\"]\n",
        "print(weather_week(weekly_conditions))\n",
        "\n",
        "weekly_conditions = [\"cloudy\", \"cloudy\", \"rainy\", \"rainy\", \"cloudy\", \"sunny\", \"cloudy\"]\n",
        "print(weather_week(weekly_conditions))\n",
        "\n",
        "weekly_conditions = [\"rainy\", \"sunny\", \"rainy\", \"cloudy\", \"rainy\", \"cloudy\", \"sunny\"]\n",
        "print(weather_week(weekly_conditions))"
      ],
      "metadata": {
        "id": "B0agh7urS0Fc",
        "colab": {
          "base_uri": "https://localhost:8080/"
        },
        "outputId": "34aadd68-81c4-470b-8f72-aa607e0bfc72"
      },
      "execution_count": 82,
      "outputs": [
        {
          "output_type": "stream",
          "name": "stdout",
          "text": [
            "{'sunny': 1, 'cloudy': 4, 'rainy': 2}\n",
            "{'cloudy': 4, 'rainy': 2, 'sunny': 1}\n",
            "{'rainy': 3, 'sunny': 2, 'cloudy': 2}\n"
          ]
        }
      ]
    },
    {
      "cell_type": "markdown",
      "source": [
        "9. (15б) Напишіть програму, яка б шукала необхідне число у **впорядкованому** списку цілочислених значень, де\n",
        "\n",
        "\n",
        "1.   число має вводитись з консолі.\n",
        "2.   власне алгоритм пошуку винесений в окрему функцію, яка повертає булеве значення (знайдено число - True, не знайдено - False).\n",
        "3. в залежності від результату функції, виведіть на екран повідомлення про успішний або ж неуспішний пошук.\n",
        "\n",
        "\n",
        "**Зауваження**: використовувати оператор **in** заборонено."
      ],
      "metadata": {
        "id": "bLgviTMlUlNG"
      }
    },
    {
      "cell_type": "code",
      "source": [
        "def find_in_list(array_nums, target):\n",
        "    i = 0\n",
        "    while len(array_nums) != i :\n",
        "      if array_nums[i] == target:\n",
        "        return True\n",
        "      i += 1\n",
        "    return False\n",
        "\n",
        "find_list = [1, 3, 4, 5, 7, 8, 10, 11, 15, 16, 17, 19, 20]\n",
        "target_num = int(input(\"Введіть число: \"))\n",
        "result = find_in_list(find_list, target_num)\n",
        "if result == True:\n",
        "  print(\"Таке число є в списку\")\n",
        "else:\n",
        "  print(\"Такого числа нема в списку\")"
      ],
      "metadata": {
        "id": "LAHz6MmdcWfP",
        "colab": {
          "base_uri": "https://localhost:8080/"
        },
        "outputId": "0f011c42-dd5a-448d-891d-55e9c7f3e843"
      },
      "execution_count": 85,
      "outputs": [
        {
          "output_type": "stream",
          "name": "stdout",
          "text": [
            "Введіть число: 6\n",
            "Такого числа нема в списку\n"
          ]
        }
      ]
    },
    {
      "cell_type": "markdown",
      "source": [
        "# II. Lambda functions."
      ],
      "metadata": {
        "id": "wCKOEiKhLSld"
      }
    },
    {
      "cell_type": "markdown",
      "source": [
        "10. (6б) Визначте анонімну функцію, що виконувала б завдання з задачі №1."
      ],
      "metadata": {
        "id": "c4EBfW6QcXF7"
      }
    },
    {
      "cell_type": "code",
      "source": [
        "result_sum = lambda first_arg, second_arg: first_arg + second_arg\n",
        "print(result_sum(1,2))"
      ],
      "metadata": {
        "id": "sGgO6KjuhUj5",
        "colab": {
          "base_uri": "https://localhost:8080/"
        },
        "outputId": "e90f9f2f-3015-4717-e764-216308877f19"
      },
      "execution_count": 84,
      "outputs": [
        {
          "output_type": "stream",
          "name": "stdout",
          "text": [
            "3\n"
          ]
        }
      ]
    },
    {
      "cell_type": "markdown",
      "source": [
        "11. (5б) В яких випадках варто використовувати лямбда-функції?"
      ],
      "metadata": {
        "id": "fWa0efmRhepO"
      }
    },
    {
      "cell_type": "markdown",
      "source": [
        "її слід використовувати для більшої читабільності та для простих операцій"
      ],
      "metadata": {
        "id": "R68BViaPhad_"
      }
    },
    {
      "cell_type": "markdown",
      "source": [
        "12. (9б) Визначте список з рядками. Після цього визначте анонімну функцію для отримання першого символу у верхньому регістрі для кожного рядка списку.\n",
        "*Підказка*: використовуйте анонімну функцію в якості агрумента до вбудованої ф-ції, яка створена для застосування функцій над iterable обʼєктами.\n",
        "Результат виведіть на екран у вигляді кортежу."
      ],
      "metadata": {
        "id": "0CL6ikIkhU7j"
      }
    },
    {
      "cell_type": "code",
      "source": [
        "def upper_first_word(*args):\n",
        "    words = []\n",
        "    for word in args:\n",
        "      words.append(word[0].upper())\n",
        "    return words\n",
        "\n",
        "\n",
        "words = ['ewew', 'vava', 'hello', 'no']\n",
        "word = lambda x : upper_first_word(*x)\n",
        "\n",
        "print(word(words))"
      ],
      "metadata": {
        "id": "I1Lw2SSNhhJw",
        "colab": {
          "base_uri": "https://localhost:8080/"
        },
        "outputId": "af9af749-9a4f-4ba4-9cf8-9c15743dd3fe"
      },
      "execution_count": 86,
      "outputs": [
        {
          "output_type": "stream",
          "name": "stdout",
          "text": [
            "['E', 'V', 'H', 'N']\n"
          ]
        }
      ]
    },
    {
      "cell_type": "markdown",
      "source": [
        "# III. Decorators."
      ],
      "metadata": {
        "id": "rgGmGt67m5yi"
      }
    },
    {
      "cell_type": "markdown",
      "source": [
        "13. (15б) Визначте декоратор, який би виводив у консоль повідомлення про початок роботи і назву функції, а після відпрацювання функції - повідомлення про закінчення роботи і назву функції, що задекорована."
      ],
      "metadata": {
        "id": "DZm1W0Qqncu8"
      }
    },
    {
      "cell_type": "code",
      "source": [
        "def log_function(func):\n",
        "    def wrapper(*args, **kwargs):\n",
        "        print(f\"Початок {func.__name__}\")\n",
        "        result = func(*args, **kwargs)\n",
        "        print(f\"Закінчення {func.__name__}\")\n",
        "        return result\n",
        "    return wrapper\n"
      ],
      "metadata": {
        "id": "5s3X3F6soer0"
      },
      "execution_count": 90,
      "outputs": []
    },
    {
      "cell_type": "markdown",
      "source": [
        "14. (7б) Задекоруйте функції з завдання 3, 5 та 6 декоратором із завдання 13. *Примітка*: продемонструйте 2 способи, як можна задекорувати функції (**УВАГА**: не декоруйте функції двічі!)."
      ],
      "metadata": {
        "id": "AlGt40oVofHB"
      }
    },
    {
      "cell_type": "code",
      "source": [
        "@log_function\n",
        "def division_fun(first_arg, second_arg):\n",
        "    if second_arg == 0:\n",
        "      return None\n",
        "    return first_arg / second_arg\n",
        "\n",
        "\n",
        "@log_function\n",
        "def fun_division(*args):\n",
        "    if len(args) == 1:\n",
        "      return args[0] - 1\n",
        "    return args[0] - args[1]\n",
        "\n",
        "\n",
        "@log_function\n",
        "def add_numbers(a, b):\n",
        "    return a + b"
      ],
      "metadata": {
        "id": "hkxhoRVqo1AW"
      },
      "execution_count": 91,
      "outputs": []
    },
    {
      "cell_type": "markdown",
      "source": [
        "15. (2б) Викличте одну з задекорованих функцій і виведіть її результат на екран."
      ],
      "metadata": {
        "id": "6QkS0Kxzo4UR"
      }
    },
    {
      "cell_type": "code",
      "source": [
        "print(division_fun(6,3),'\\n')\n",
        "\n",
        "print(fun_division(5),'\\n')\n",
        "\n",
        "print(add_numbers(5, 7),'\\n')"
      ],
      "metadata": {
        "id": "BCCCPai6o-y5",
        "colab": {
          "base_uri": "https://localhost:8080/"
        },
        "outputId": "d36ca037-9394-4644-9c2c-9105c8cd14a3"
      },
      "execution_count": 92,
      "outputs": [
        {
          "output_type": "stream",
          "name": "stdout",
          "text": [
            "Початок division_fun\n",
            "Закінчення division_fun\n",
            "2.0 \n",
            "\n",
            "Початок fun_division\n",
            "Закінчення fun_division\n",
            "4 \n",
            "\n",
            "Початок add_numbers\n",
            "Закінчення add_numbers\n",
            "12 \n",
            "\n"
          ]
        }
      ]
    },
    {
      "cell_type": "markdown",
      "source": [
        "# Вітаю! Ви велика(ий) молодець, що впоралась(вся). Похваліть себе та побалуйте чимось приємним. Я Вами пишаюся."
      ],
      "metadata": {
        "id": "CSN0Q5pMQVNQ"
      }
    }
  ]
}