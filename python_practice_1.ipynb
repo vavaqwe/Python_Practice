{
  "nbformat": 4,
  "nbformat_minor": 0,
  "metadata": {
    "colab": {
      "provenance": [],
      "include_colab_link": true
    },
    "kernelspec": {
      "name": "python3",
      "display_name": "Python 3"
    },
    "language_info": {
      "name": "python"
    }
  },
  "cells": [
    {
      "cell_type": "markdown",
      "metadata": {
        "id": "view-in-github",
        "colab_type": "text"
      },
      "source": [
        "<a href=\"https://colab.research.google.com/github/vavaqwe/Python_Practice/blob/main/python_practice_1.ipynb\" target=\"_parent\"><img src=\"https://colab.research.google.com/assets/colab-badge.svg\" alt=\"Open In Colab\"/></a>"
      ]
    },
    {
      "cell_type": "markdown",
      "source": [
        "# I. Змінні та памʼять."
      ],
      "metadata": {
        "id": "p9wwt0LZzNvn"
      }
    },
    {
      "cell_type": "markdown",
      "source": [
        "1. Створити змінні, що посилаються на два цілих числа, що однакові за значенням, де значення належить проміжку від -5 до 256. Чи будуть ці змінні рівні тільки за значенням або ж ще будуть посилатися на один і той самий обʼєкт в памʼяті? Наведіть код та дайте текстову відповідь нижче."
      ],
      "metadata": {
        "id": "HTJrrm95xSV9"
      }
    },
    {
      "cell_type": "code",
      "execution_count": 3,
      "metadata": {
        "id": "FHSFpb1bwTFG",
        "colab": {
          "base_uri": "https://localhost:8080/"
        },
        "outputId": "67eee63f-f47e-4a5e-c3fd-7955c9079af8"
      },
      "outputs": [
        {
          "output_type": "stream",
          "name": "stdout",
          "text": [
            "136694559080976\n",
            "136694559080976\n"
          ]
        }
      ],
      "source": [
        "a = 10\n",
        "b = 10\n",
        "print(id(a))\n",
        "print(id(b))\n",
        "# в діапазоні від -5 до 256 пайтон сам виділяє пам'ять під ці значення"
      ]
    },
    {
      "cell_type": "markdown",
      "source": [
        "2. Створити змінні, що посилаються на одне і те саме булеве значення. Чи будуть ці змінні рівні тільки за значенням або ж ще будуть посилатися на один і той самий обʼєкт в памʼяті? Наведіть код та дайте текстову відповідь нижче."
      ],
      "metadata": {
        "id": "N-soIzlV0Awv"
      }
    },
    {
      "cell_type": "code",
      "source": [
        "a = True\n",
        "b = True\n",
        "print(id(a))\n",
        "print(id(b))"
      ],
      "metadata": {
        "id": "qK1-VBih0Lgz",
        "colab": {
          "base_uri": "https://localhost:8080/"
        },
        "outputId": "d9a41014-5a75-4754-b184-b4ec5f5a999d"
      },
      "execution_count": 4,
      "outputs": [
        {
          "output_type": "stream",
          "name": "stdout",
          "text": [
            "99789979706400\n",
            "99789979706400\n"
          ]
        }
      ]
    },
    {
      "cell_type": "markdown",
      "source": [
        "в діапазоні від -5 до 256 та для булевих значень пайтон сам виділяє пам'ять під ці тому вони всі знаходяться в однакових комірках"
      ],
      "metadata": {
        "id": "nD2SJcgaya4d"
      }
    },
    {
      "cell_type": "markdown",
      "source": [
        "3. За допомогою якої функції можна перевірити належність змінної до вказаного типу даних (напр. чи змінна посилається на значення булевого типу)?"
      ],
      "metadata": {
        "id": "ISORzt6M3vAt"
      }
    },
    {
      "cell_type": "code",
      "source": [
        "isinstance('ad', str)"
      ],
      "metadata": {
        "id": "N7HHGm4H4CW7"
      },
      "execution_count": null,
      "outputs": []
    },
    {
      "cell_type": "markdown",
      "source": [
        "# II. Цілі числа та числа з рухомою комою"
      ],
      "metadata": {
        "id": "tRxugKAxwYLw"
      }
    },
    {
      "cell_type": "markdown",
      "source": [
        "4. Створити дві змінні, що посилаються на будь-які два цілих числа та продемонструвати такі арифметичні операції: додавання, віднімання, ділення, множення, ділення без залишку, ділення по модулю, приведення до ступеню. Всі результати операцій вивести на екран."
      ],
      "metadata": {
        "id": "NLHkgd5Gybc8"
      }
    },
    {
      "cell_type": "code",
      "source": [
        "a = 4\n",
        "b = 10\n",
        "print(a + b)\n",
        "print(a / b)\n",
        "print(a - b)\n",
        "print(a * b)\n",
        "print(a & b)\n",
        "print(a % b)\n",
        "print(a ** b)"
      ],
      "metadata": {
        "id": "Ck6JaN4Qysoc",
        "colab": {
          "base_uri": "https://localhost:8080/"
        },
        "outputId": "815371e4-5c55-4e02-a1ad-2f2e7a58de0c"
      },
      "execution_count": 9,
      "outputs": [
        {
          "output_type": "stream",
          "name": "stdout",
          "text": [
            "14\n",
            "0.4\n",
            "-6\n",
            "40\n",
            "0\n",
            "4\n",
            "1048576\n"
          ]
        }
      ]
    },
    {
      "cell_type": "markdown",
      "source": [
        "5. Створити дві змінні, що посилаються на будь-які два числа з рухомою комою та продемонструвати такі арифметичні операції: додавання, віднімання, ділення, множення, ділення без залишку, ділення по модулю, приведення до ступеню. Всі результати операцій вивести на екран."
      ],
      "metadata": {
        "id": "tOT1crlty3cE"
      }
    },
    {
      "cell_type": "code",
      "source": [
        "a = 2.4\n",
        "b = 5.7\n",
        "print(a + b)\n",
        "print(a / b)\n",
        "print(a - b)\n",
        "print(a * b)\n",
        "print(a % b)\n",
        "print(a ** b)"
      ],
      "metadata": {
        "id": "m88_XOI9y-HI",
        "colab": {
          "base_uri": "https://localhost:8080/"
        },
        "outputId": "a3ca8a02-b52a-48eb-c5fa-326bba4e395b"
      },
      "execution_count": 22,
      "outputs": [
        {
          "output_type": "stream",
          "name": "stdout",
          "text": [
            "8.1\n",
            "0.42105263157894735\n",
            "-3.3000000000000003\n",
            "13.68\n",
            "2.4\n",
            "146.96166977052837\n"
          ]
        }
      ]
    },
    {
      "cell_type": "markdown",
      "source": [
        "6. Спробуйте проробити всі ті самі арифметичні операції над двома змінними, що посилаються на різні булеві значення. Прокоментуйте, чому, на Вашу думку, Ви отримали саме такі результати."
      ],
      "metadata": {
        "id": "74jIsang0Yfe"
      }
    },
    {
      "cell_type": "code",
      "source": [
        "f = True\n",
        "g = False\n",
        "print(f + g)\n",
        "print(g / f)\n",
        "print(f - g)\n",
        "print(f * g)\n",
        "print(g % f)\n",
        "print(f ** g)"
      ],
      "metadata": {
        "id": "Py3JN4gU0eTq",
        "colab": {
          "base_uri": "https://localhost:8080/"
        },
        "outputId": "aae9c738-1858-4048-f30a-fce068171bba"
      },
      "execution_count": 23,
      "outputs": [
        {
          "output_type": "stream",
          "name": "stdout",
          "text": [
            "1\n",
            "0.0\n",
            "1\n",
            "0\n",
            "0\n",
            "1\n"
          ]
        }
      ]
    },
    {
      "cell_type": "markdown",
      "source": [
        "*бо булеві значення це 1, 0*"
      ],
      "metadata": {
        "id": "-pY4SCvo0wMG"
      }
    },
    {
      "cell_type": "markdown",
      "source": [
        "7. Використовуючи змінні з вправи 3, продемонструйте механізм явного перетворення типів, де числа з рухомою комою перетворюються на цілі числа."
      ],
      "metadata": {
        "id": "1kBClKgPzZnC"
      }
    },
    {
      "cell_type": "code",
      "source": [
        "print(int(a))\n",
        "print(int(b))"
      ],
      "metadata": {
        "id": "akcVeUWYzlpb",
        "colab": {
          "base_uri": "https://localhost:8080/"
        },
        "outputId": "f5022a1f-b08f-488d-b9a8-bd12f9cb115a"
      },
      "execution_count": 24,
      "outputs": [
        {
          "output_type": "stream",
          "name": "stdout",
          "text": [
            "2\n",
            "5\n"
          ]
        }
      ]
    },
    {
      "cell_type": "markdown",
      "source": [
        "# III. Робота зі списками."
      ],
      "metadata": {
        "id": "GYVqN9uP1D4n"
      }
    },
    {
      "cell_type": "markdown",
      "source": [
        "8. Створити список двома різними за синтаксисом способами. За допомогою вбудованої функції обчисліть довжину одного з них."
      ],
      "metadata": {
        "id": "7-DeDunw2sO-"
      }
    },
    {
      "cell_type": "code",
      "source": [
        "my_list1 = [1, 2, 3, 4, 5]\n",
        "print(len(my_list1))\n",
        "my_list2 = list(range(10))\n",
        "print(len(my_list2))"
      ],
      "metadata": {
        "id": "jY07arjK21hH",
        "colab": {
          "base_uri": "https://localhost:8080/"
        },
        "outputId": "85c7a3f0-914b-43f5-951c-28597b0964b1"
      },
      "execution_count": 27,
      "outputs": [
        {
          "output_type": "stream",
          "name": "stdout",
          "text": [
            "5\n",
            "10\n"
          ]
        }
      ]
    },
    {
      "cell_type": "markdown",
      "source": [
        "9. Створіть два списка та за допомогою спеціального методу додайте другий з них в якості останнього елемента першого."
      ],
      "metadata": {
        "id": "8vmGUTjL22gI"
      }
    },
    {
      "cell_type": "code",
      "source": [
        "my_list1 = [1, 2, 3, 4, 5]\n",
        "my_list2 = list(range(10))\n",
        "my_list1.append(my_list2)\n",
        "print(my_list1)"
      ],
      "metadata": {
        "id": "DSP6lO_m4cdV",
        "colab": {
          "base_uri": "https://localhost:8080/"
        },
        "outputId": "31cdedfd-efe0-40eb-ff9a-8dd09247662e"
      },
      "execution_count": 31,
      "outputs": [
        {
          "output_type": "stream",
          "name": "stdout",
          "text": [
            "[1, 2, 3, 4, 5, [0, 1, 2, 3, 4, 5, 6, 7, 8, 9]]\n"
          ]
        }
      ]
    },
    {
      "cell_type": "markdown",
      "source": [
        "10. Створіть два списка та за допомогою спеціального методу \"розширте\" перший (додайте всі елементи другого в кінець першого списку). Напишіть, чим відрізняються методи в завданні 9 та 10."
      ],
      "metadata": {
        "id": "6ke6ng2j4dtq"
      }
    },
    {
      "cell_type": "code",
      "source": [
        "my_list1 = [1, 2, 3, 4, 5]\n",
        "my_list2 = list(range(10))\n",
        "my_list1.extend(my_list2)\n",
        "print(my_list1)"
      ],
      "metadata": {
        "id": "DVJVvu494q8d",
        "colab": {
          "base_uri": "https://localhost:8080/"
        },
        "outputId": "de400f4a-cde1-4130-891d-e132b7497743"
      },
      "execution_count": 32,
      "outputs": [
        {
          "output_type": "stream",
          "name": "stdout",
          "text": [
            "[1, 2, 3, 4, 5, 0, 1, 2, 3, 4, 5, 6, 7, 8, 9]\n"
          ]
        }
      ]
    },
    {
      "cell_type": "markdown",
      "source": [
        "))))))))))))))))\n"
      ],
      "metadata": {
        "id": "LvEs8TGo6CaT"
      }
    },
    {
      "cell_type": "markdown",
      "source": [
        "11. Створіть список та відсортуйте його так, щоб:\n",
        "а) його id залишився незмінним після сортування.\n",
        "б) результат сортування був збережений у нову змінну. Підказка: для одного пункту використовуйте вбудовану функцію стортування, а в іншому - спеціальний метод для роботи зі списками."
      ],
      "metadata": {
        "id": "iu_NyJeR4vOu"
      }
    },
    {
      "cell_type": "code",
      "source": [
        "# a\n",
        "my_list1 = [1, 2, 3, 4, 5, 2, 8, 9, 31, 53, 5]\n",
        "print(id(my_list1))\n",
        "my_list1.sort()\n",
        "print(id(my_list1))"
      ],
      "metadata": {
        "id": "LWdiIkDj5Nxo",
        "colab": {
          "base_uri": "https://localhost:8080/"
        },
        "outputId": "ad01102a-00fb-4d46-b8b5-d5a6d3a808f7"
      },
      "execution_count": 34,
      "outputs": [
        {
          "output_type": "stream",
          "name": "stdout",
          "text": [
            "136693287615424\n",
            "136693287615424\n"
          ]
        }
      ]
    },
    {
      "cell_type": "code",
      "source": [
        "# b\n",
        "my_list1 = [1, 2, 3, 4, 5, 2, 8, 9, 31, 53, 5]\n",
        "print(id(my_list1))\n",
        "sorted_list = sorted(my_list1)\n",
        "print(id(sorted_list))"
      ],
      "metadata": {
        "id": "JHl9vlFa5bHt",
        "colab": {
          "base_uri": "https://localhost:8080/"
        },
        "outputId": "1d0fac01-cb1c-4185-9910-90f5b973d225"
      },
      "execution_count": 36,
      "outputs": [
        {
          "output_type": "stream",
          "name": "stdout",
          "text": [
            "136693288208192\n",
            "136693286998848\n"
          ]
        }
      ]
    },
    {
      "cell_type": "markdown",
      "source": [
        "12. Створіть список з елементами різного типу, де деякі значення елементів повторюються. За допомогою спеціального методу порахуйте кількість значень одного з елементів на Ваш вибір. Результат виведіть на екран."
      ],
      "metadata": {
        "id": "1l80guua5bia"
      }
    },
    {
      "cell_type": "code",
      "source": [
        "my_list = [1, '54223', 546, 'vava']\n",
        "print(len(my_list[1]))"
      ],
      "metadata": {
        "id": "tWFdczmv5z5Q",
        "colab": {
          "base_uri": "https://localhost:8080/"
        },
        "outputId": "d3a6be4c-346d-4bc3-8c0b-29f6d8fecd3e"
      },
      "execution_count": 37,
      "outputs": [
        {
          "output_type": "stream",
          "name": "stdout",
          "text": [
            "5\n"
          ]
        }
      ]
    },
    {
      "cell_type": "markdown",
      "source": [
        "# IV. Робота з кортежами."
      ],
      "metadata": {
        "id": "pCjR1dJb1Qbi"
      }
    },
    {
      "cell_type": "markdown",
      "source": [
        "13. Створити список з один типом елементів та на основі цього списку створити кортеж."
      ],
      "metadata": {
        "id": "te3MAUYq28TV"
      }
    },
    {
      "cell_type": "code",
      "source": [
        "my_list = [1, 2, 3, 4, 5]\n",
        "my_set = set(my_list)\n",
        "print(my_set)"
      ],
      "metadata": {
        "id": "uq3O114R2_H1",
        "colab": {
          "base_uri": "https://localhost:8080/"
        },
        "outputId": "d666c343-e4e9-4e56-cad9-1748ca10d31b"
      },
      "execution_count": 38,
      "outputs": [
        {
          "output_type": "stream",
          "name": "stdout",
          "text": [
            "{1, 2, 3, 4, 5}\n"
          ]
        }
      ]
    },
    {
      "cell_type": "markdown",
      "source": [
        "14. Створити кортеж з один елементом."
      ],
      "metadata": {
        "id": "fAZCxAX06R_k"
      }
    },
    {
      "cell_type": "code",
      "source": [
        "my_set = {1}\n",
        "print(my_set)"
      ],
      "metadata": {
        "id": "-QWjudqk6kHd",
        "colab": {
          "base_uri": "https://localhost:8080/"
        },
        "outputId": "4474c91d-fd7f-4769-cc9d-4368090686af"
      },
      "execution_count": 40,
      "outputs": [
        {
          "output_type": "stream",
          "name": "stdout",
          "text": [
            "{1}\n"
          ]
        }
      ]
    },
    {
      "cell_type": "markdown",
      "source": [
        "15. Створити кортеж. Вивести на екран всі доступні його атрибути та методи."
      ],
      "metadata": {
        "id": "VfTSJwQF7djZ"
      }
    },
    {
      "cell_type": "code",
      "source": [
        "my_set = {1}\n",
        "dir(my_set)"
      ],
      "metadata": {
        "id": "x9elcFfr774r",
        "colab": {
          "base_uri": "https://localhost:8080/"
        },
        "outputId": "5f08689e-6494-487c-8103-4ec20ec51b30"
      },
      "execution_count": 42,
      "outputs": [
        {
          "output_type": "execute_result",
          "data": {
            "text/plain": [
              "['__and__',\n",
              " '__class__',\n",
              " '__class_getitem__',\n",
              " '__contains__',\n",
              " '__delattr__',\n",
              " '__dir__',\n",
              " '__doc__',\n",
              " '__eq__',\n",
              " '__format__',\n",
              " '__ge__',\n",
              " '__getattribute__',\n",
              " '__gt__',\n",
              " '__hash__',\n",
              " '__iand__',\n",
              " '__init__',\n",
              " '__init_subclass__',\n",
              " '__ior__',\n",
              " '__isub__',\n",
              " '__iter__',\n",
              " '__ixor__',\n",
              " '__le__',\n",
              " '__len__',\n",
              " '__lt__',\n",
              " '__ne__',\n",
              " '__new__',\n",
              " '__or__',\n",
              " '__rand__',\n",
              " '__reduce__',\n",
              " '__reduce_ex__',\n",
              " '__repr__',\n",
              " '__ror__',\n",
              " '__rsub__',\n",
              " '__rxor__',\n",
              " '__setattr__',\n",
              " '__sizeof__',\n",
              " '__str__',\n",
              " '__sub__',\n",
              " '__subclasshook__',\n",
              " '__xor__',\n",
              " 'add',\n",
              " 'clear',\n",
              " 'copy',\n",
              " 'difference',\n",
              " 'difference_update',\n",
              " 'discard',\n",
              " 'intersection',\n",
              " 'intersection_update',\n",
              " 'isdisjoint',\n",
              " 'issubset',\n",
              " 'issuperset',\n",
              " 'pop',\n",
              " 'remove',\n",
              " 'symmetric_difference',\n",
              " 'symmetric_difference_update',\n",
              " 'union',\n",
              " 'update']"
            ]
          },
          "metadata": {},
          "execution_count": 42
        }
      ]
    },
    {
      "cell_type": "markdown",
      "source": [
        "16. Порівняйте список та кортеж. Назвіть схожості та відмінності, випадки використання."
      ],
      "metadata": {
        "id": "8LCtYcmI6w1M"
      }
    },
    {
      "cell_type": "markdown",
      "source": [
        "**місце для відповіді*"
      ],
      "metadata": {
        "id": "t9MwoWor7UVB"
      }
    },
    {
      "cell_type": "markdown",
      "source": [
        "# V. Індексування та слайсинг."
      ],
      "metadata": {
        "id": "QTP622J81iHk"
      }
    },
    {
      "cell_type": "markdown",
      "source": [
        "17. Створіть список з 6ти елементів. Отримайте третій елемент за допомогою двох різних індексів."
      ],
      "metadata": {
        "id": "4dmeIU-N9gHy"
      }
    },
    {
      "cell_type": "code",
      "source": [
        "my_list = [10, 20, 30, 40, 50, 60]\n",
        "print(my_list[2], my_list[-4])"
      ],
      "metadata": {
        "id": "47LTFhfH9pRe",
        "colab": {
          "base_uri": "https://localhost:8080/"
        },
        "outputId": "78fcfef8-8980-42f1-b5f2-6ad1539accb2"
      },
      "execution_count": 43,
      "outputs": [
        {
          "output_type": "stream",
          "name": "stdout",
          "text": [
            "30 30\n"
          ]
        }
      ]
    },
    {
      "cell_type": "markdown",
      "source": [
        "18. Створіть список, де елементами цього списку також є списки. Отримай перший елемент з останнього рядка та виведи значення на екран."
      ],
      "metadata": {
        "id": "JC3BkD-67_--"
      }
    },
    {
      "cell_type": "code",
      "source": [
        "my_list = [[10, 20], [30, 40],[50, 60]]\n",
        "my_list[-1][0]"
      ],
      "metadata": {
        "id": "ctR2jdq68cB0",
        "colab": {
          "base_uri": "https://localhost:8080/"
        },
        "outputId": "f36b8d55-629d-4fed-9231-44c02144bf6c"
      },
      "execution_count": 44,
      "outputs": [
        {
          "output_type": "execute_result",
          "data": {
            "text/plain": [
              "50"
            ]
          },
          "metadata": {},
          "execution_count": 44
        }
      ]
    },
    {
      "cell_type": "markdown",
      "source": [
        "19. Створіть кортеж, що містить 8  елементів цілочисленного типу. Виведіть на екран три найменших значення."
      ],
      "metadata": {
        "id": "A-hPrvOS8cjx"
      }
    },
    {
      "cell_type": "code",
      "source": [
        "my_list = (10, 20, 30, 40, 50, 60, 70, 80)\n",
        "print(my_list[:3])"
      ],
      "metadata": {
        "id": "GPxJKNUm8xHU",
        "colab": {
          "base_uri": "https://localhost:8080/"
        },
        "outputId": "d3bbdc2f-2cd9-4011-c611-b7f127c5f3a4"
      },
      "execution_count": 47,
      "outputs": [
        {
          "output_type": "stream",
          "name": "stdout",
          "text": [
            "(10, 20, 30)\n"
          ]
        }
      ]
    },
    {
      "cell_type": "markdown",
      "source": [
        "20. Створіть список з десяти елементів різного типу. Отримайте всі елементи, окрім двох перших та двох останніх та збережіть їх в новій змінній."
      ],
      "metadata": {
        "id": "JA47PKTv8zFK"
      }
    },
    {
      "cell_type": "code",
      "source": [
        "my_list = [1, 'hello', 3.14, [4, 5], 755, True, (7, 8), None, 'world', 10]\n",
        "new_list = my_list[2:-2]\n",
        "print(new_list)"
      ],
      "metadata": {
        "id": "g-GAQS_kAlmr",
        "colab": {
          "base_uri": "https://localhost:8080/"
        },
        "outputId": "cb5859e1-3502-4316-d28d-c9268230f401"
      },
      "execution_count": 48,
      "outputs": [
        {
          "output_type": "stream",
          "name": "stdout",
          "text": [
            "[3.14, [4, 5], 755, True, (7, 8), None]\n"
          ]
        }
      ]
    },
    {
      "cell_type": "markdown",
      "source": [
        "21. Створіть кортеж з 11ти елементів чисел з рухомою комою та отримайте кожен парний за індексом елемент в зворотньому порядку. Наприклад, маючи (1.2, 2.3, 3.3, 4.3, 5.3, 6.3, 7.3, 8.3, 9.3, 0.3), отримати (0.3, 8.3, 6.3, 4.3, 2.3). Результат збережіть в нову змінну та виведіть на екран."
      ],
      "metadata": {
        "id": "m0xrwFijAmDD"
      }
    },
    {
      "cell_type": "code",
      "source": [
        "my_turp = (1.2, 2.3, 3.3, 4.3, 5.3, 6.3, 7.3, 8.3, 9.3, 0.3)\n",
        "new_turp = my_turp[-2::-2]\n",
        "print(new_turp)"
      ],
      "metadata": {
        "id": "BQwYLEXdBVBo",
        "colab": {
          "base_uri": "https://localhost:8080/"
        },
        "outputId": "1029283b-d547-4ccb-ee57-47108255a04e"
      },
      "execution_count": 53,
      "outputs": [
        {
          "output_type": "stream",
          "name": "stdout",
          "text": [
            "(9.3, 7.3, 5.3, 3.3, 1.2)\n"
          ]
        }
      ]
    },
    {
      "cell_type": "markdown",
      "source": [
        "# Вітаю! Ви велика(ий) молодець, що впоралась(вся). Похваліть себе та побалуйте чимось приємним. Я Вами пишаюся."
      ],
      "metadata": {
        "id": "F0ArvieRBZsG"
      }
    }
  ]
}